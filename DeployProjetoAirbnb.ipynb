{
  "cells": [
    {
      "cell_type": "code",
      "execution_count": null,
      "metadata": {
        "colab": {
          "base_uri": "https://localhost:8080/"
        },
        "id": "lGk-ADHWvZ5D",
        "outputId": "334bc5c3-14cf-48df-b15f-30a0a804985d"
      },
      "outputs": [
        {
          "output_type": "stream",
          "name": "stdout",
          "text": [
            "\u001b[2K     \u001b[90m━━━━━━━━━━━━━━━━━━━━━━━━━━━━━━━━━━━━━━━━\u001b[0m \u001b[32m9.7/9.7 MB\u001b[0m \u001b[31m61.2 MB/s\u001b[0m eta \u001b[36m0:00:00\u001b[0m\n",
            "\u001b[2K     \u001b[90m━━━━━━━━━━━━━━━━━━━━━━━━━━━━━━━━━━━━━━━━\u001b[0m \u001b[32m4.7/4.7 MB\u001b[0m \u001b[31m64.3 MB/s\u001b[0m eta \u001b[36m0:00:00\u001b[0m\n",
            "\u001b[2K     \u001b[90m━━━━━━━━━━━━━━━━━━━━━━━━━━━━━━━━━━━━━━\u001b[0m \u001b[32m164.8/164.8 kB\u001b[0m \u001b[31m15.4 MB/s\u001b[0m eta \u001b[36m0:00:00\u001b[0m\n",
            "\u001b[2K     \u001b[90m━━━━━━━━━━━━━━━━━━━━━━━━━━━━━━━━━━━━━━━━\u001b[0m \u001b[32m82.1/82.1 kB\u001b[0m \u001b[31m5.8 MB/s\u001b[0m eta \u001b[36m0:00:00\u001b[0m\n",
            "\u001b[2K     \u001b[90m━━━━━━━━━━━━━━━━━━━━━━━━━━━━━━━━━━━━━━\u001b[0m \u001b[32m184.3/184.3 kB\u001b[0m \u001b[31m10.8 MB/s\u001b[0m eta \u001b[36m0:00:00\u001b[0m\n",
            "\u001b[?25h  Preparing metadata (setup.py) ... \u001b[?25l\u001b[?25hdone\n",
            "\u001b[2K     \u001b[90m━━━━━━━━━━━━━━━━━━━━━━━━━━━━━━━━━━━━━━━━\u001b[0m \u001b[32m62.7/62.7 kB\u001b[0m \u001b[31m5.2 MB/s\u001b[0m eta \u001b[36m0:00:00\u001b[0m\n",
            "\u001b[?25h  Building wheel for validators (setup.py) ... \u001b[?25l\u001b[?25hdone\n",
            "Looking in indexes: https://pypi.org/simple, https://us-python.pkg.dev/colab-wheels/public/simple/\n",
            "Collecting pyngrok\n",
            "  Downloading pyngrok-5.2.2.tar.gz (680 kB)\n",
            "\u001b[2K     \u001b[90m━━━━━━━━━━━━━━━━━━━━━━━━━━━━━━━━━━━━━━━\u001b[0m \u001b[32m680.1/680.1 kB\u001b[0m \u001b[31m9.7 MB/s\u001b[0m eta \u001b[36m0:00:00\u001b[0m\n",
            "\u001b[?25h  Preparing metadata (setup.py) ... \u001b[?25l\u001b[?25hdone\n",
            "Requirement already satisfied: PyYAML in /usr/local/lib/python3.9/dist-packages (from pyngrok) (6.0)\n",
            "Building wheels for collected packages: pyngrok\n",
            "  Building wheel for pyngrok (setup.py) ... \u001b[?25l\u001b[?25hdone\n",
            "  Created wheel for pyngrok: filename=pyngrok-5.2.2-py3-none-any.whl size=19817 sha256=8b22b00d33028e18568c821a2cdde447f0366bf1aba9cc6049995b8be8b3fb33\n",
            "  Stored in directory: /root/.cache/pip/wheels/3c/bd/48/801313f1b6269333bfdaf91e63ec4a53c649948f209b8ef6ad\n",
            "Successfully built pyngrok\n",
            "Installing collected packages: pyngrok\n",
            "Successfully installed pyngrok-5.2.2\n"
          ]
        }
      ],
      "source": [
        "!pip install streamlit -q\n",
        "!pip install pyngrok"
      ]
    },
    {
      "cell_type": "code",
      "execution_count": null,
      "metadata": {
        "id": "p7aFEqcR36aA",
        "colab": {
          "base_uri": "https://localhost:8080/"
        },
        "outputId": "ff78a59f-58b4-4471-8d27-036ff7069621"
      },
      "outputs": [
        {
          "output_type": "stream",
          "name": "stdout",
          "text": [
            "Mounted at /content/drive\n"
          ]
        }
      ],
      "source": [
        "import pandas as pd\n",
        "import pathlib\n",
        "import streamlit as st\n",
        "import joblib\n",
        "from google.colab import drive\n",
        "from pyngrok import ngrok\n",
        "\n",
        "drive.mount(r'/content/drive')"
      ]
    },
    {
      "cell_type": "code",
      "execution_count": null,
      "metadata": {
        "id": "M_lluwKoXoAE",
        "colab": {
          "base_uri": "https://localhost:8080/"
        },
        "outputId": "e1ea3450-16d1-4e73-8660-cfca96770222"
      },
      "outputs": [
        {
          "output_type": "stream",
          "name": "stdout",
          "text": [
            "Writing deployprojetoairbnb.py\n"
          ]
        }
      ],
      "source": [
        "%%writefile deployprojetoairbnb.py\n",
        "import pandas as pd\n",
        "import pathlib\n",
        "import streamlit as st\n",
        "import joblib\n",
        "from pyngrok import ngrok\n",
        "\n",
        "\n",
        "x_numericos = {'latitude': 0, 'longitude': 0, 'accommodates': 0, 'bathrooms': 0, 'bedrooms': 0, 'beds': 0, 'extra_people': 0,\n",
        "               'minimum_nights': 0, 'ano': 0, 'mes': 0, 'n_amenities': 0, 'host_listings_count': 0}\n",
        "\n",
        "x_tf = {'host_is_superhost': 0, 'instant_bookable': 0}\n",
        "\n",
        "x_listas = {'property_type': ['Apartment', 'Bed and breakfast', 'Condominium', 'Guest suite', 'Guesthouse', 'Hostel', 'House', 'Loft', 'Outros', 'Serviced apartment'],\n",
        "            'room_type': ['Entire home/apt', 'Hotel room', 'Private room', 'Shared room'],\n",
        "            'cancellation_policy': ['flexible', 'moderate', 'strict', 'strict_14_with_grace_period']\n",
        "            }\n",
        "\n",
        "dicionario = {}\n",
        "for item in x_listas:\n",
        "  for valor in x_listas[item]:\n",
        "    dicionario[f'{item}_{valor}'] = 0\n",
        "\n",
        "\n",
        "for item in x_numericos:\n",
        "  if item == 'latitude' or item == 'longitude':\n",
        "    valor = st.number_input(f'{item}', step=0.00001, value=float(0), format=\"%.5f\")\n",
        "  elif item == 'extra_people':\n",
        "    valor = st.number_input(f'{item}', step=0.01, value=float(0))\n",
        "  else:\n",
        "    valor = st.number_input(f'{item}', step=1, value=0)\n",
        "  x_numericos[item] = valor\n",
        "\n",
        "for item in x_tf:\n",
        "  valor = st.selectbox(f'{item}', ('Sim', 'Não'))\n",
        "  if valor == \"Sim\":\n",
        "    x_tf[item] = 1\n",
        "  else:\n",
        "    x_tf[item] = 0\n",
        "\n",
        "for item in x_listas:\n",
        "  valor = st.selectbox(f'{item}', x_listas[item])\n",
        "  dicionario[f'{item}_{valor}'] = 1\n",
        "\n",
        "botao = st.button('Prever Valor do Imóvel')\n",
        "\n",
        "if botao:\n",
        "  dicionario.update(x_numericos)\n",
        "  dicionario.update(x_tf)\n",
        "  valores_x = pd.DataFrame(dicionario, index=[0])\n",
        "\n",
        "  dados = pd.read_csv(r'/content/drive/MyDrive/dados.csv')\n",
        "  colunas = list(dados.columns)[1:-1]\n",
        "\n",
        "  valores_x = valores_x[colunas]\n",
        "\n",
        "  modelo = joblib.load(r'/content/drive/MyDrive/modelo.joblib')\n",
        "  preco = modelo.predict(valores_x)\n",
        "  st.write(preco)"
      ]
    },
    {
      "cell_type": "code",
      "execution_count": null,
      "metadata": {
        "colab": {
          "background_save": true,
          "base_uri": "https://localhost:8080/"
        },
        "id": "-QzVCfjOE3dx",
        "outputId": "2bd2415f-3f03-473a-b3e3-ada475fd3100"
      },
      "outputs": [
        {
          "output_type": "stream",
          "name": "stdout",
          "text": [
            "\n",
            "Collecting usage statistics. To deactivate, set browser.gatherUsageStats to False.\n",
            "\u001b[0m\n",
            "\u001b[0m\n",
            "\u001b[34m\u001b[1m  You can now view your Streamlit app in your browser.\u001b[0m\n",
            "\u001b[0m\n",
            "\u001b[34m  Network URL: \u001b[0m\u001b[1mhttp://172.28.0.12:8501\u001b[0m\n",
            "\u001b[34m  External URL: \u001b[0m\u001b[1mhttp://34.83.158.70:8501\u001b[0m\n",
            "\u001b[0m\n",
            "\u001b[K\u001b[?25hnpx: installed 22 in 3.563s\n",
            "your url is: https://dry-crews-hammer-34-83-158-70.loca.lt\n",
            "/usr/local/lib/python3.9/dist-packages/sklearn/base.py:318: UserWarning: Trying to unpickle estimator ExtraTreeRegressor from version 1.0.2 when using version 1.2.2. This might lead to breaking code or invalid results. Use at your own risk. For more info please refer to:\n",
            "https://scikit-learn.org/stable/model_persistence.html#security-maintainability-limitations\n",
            "  warnings.warn(\n",
            "/usr/local/lib/python3.9/dist-packages/sklearn/base.py:318: UserWarning: Trying to unpickle estimator ExtraTreesRegressor from version 1.0.2 when using version 1.2.2. This might lead to breaking code or invalid results. Use at your own risk. For more info please refer to:\n",
            "https://scikit-learn.org/stable/model_persistence.html#security-maintainability-limitations\n",
            "  warnings.warn(\n"
          ]
        }
      ],
      "source": [
        "!streamlit run deployprojetoairbnb.py & npx localtunnel --port 8501"
      ]
    },
    {
      "cell_type": "code",
      "execution_count": null,
      "metadata": {
        "colab": {
          "background_save": true
        },
        "id": "kD7K5hhxy3MN"
      },
      "outputs": [],
      "source": [
        "#public_url = ngrok.connect(port='8050')\n",
        "#public_url"
      ]
    },
    {
      "cell_type": "code",
      "execution_count": null,
      "metadata": {
        "colab": {
          "background_save": true
        },
        "id": "T_dUPe-h0LcE"
      },
      "outputs": [],
      "source": [
        "#ngrok.kill()"
      ]
    },
    {
      "cell_type": "code",
      "execution_count": null,
      "metadata": {
        "colab": {
          "background_save": true
        },
        "id": "TLELPcPIBBKw"
      },
      "outputs": [],
      "source": [
        "#!ngrok diagnose"
      ]
    }
  ],
  "metadata": {
    "colab": {
      "provenance": []
    },
    "kernelspec": {
      "display_name": "Python 3",
      "name": "python3"
    },
    "language_info": {
      "name": "python"
    }
  },
  "nbformat": 4,
  "nbformat_minor": 0
}